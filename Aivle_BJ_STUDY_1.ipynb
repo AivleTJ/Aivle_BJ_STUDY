{
 "cells": [
  {
   "cell_type": "markdown",
   "id": "ae6112d3",
   "metadata": {},
   "source": [
    "**1-1) Hello World**\n"
   ]
  },
  {
   "cell_type": "code",
   "execution_count": 9,
   "id": "284ec11b",
   "metadata": {},
   "outputs": [
    {
     "name": "stdout",
     "output_type": "stream",
     "text": [
      "Hello World!\n"
     ]
    }
   ],
   "source": [
    "print('Hello World!')"
   ]
  },
  {
   "cell_type": "markdown",
   "id": "50341947",
   "metadata": {},
   "source": [
    "**1-2) We love kriii**"
   ]
  },
  {
   "cell_type": "code",
   "execution_count": 10,
   "id": "3c0e7326",
   "metadata": {},
   "outputs": [
    {
     "name": "stdout",
     "output_type": "stream",
     "text": [
      "강한친구 대한육군\n",
      "강한친구 대한육군\n"
     ]
    }
   ],
   "source": [
    "print('강한친구 대한육군\\n강한친구 대한육군')"
   ]
  },
  {
   "cell_type": "markdown",
   "id": "1ba07153",
   "metadata": {},
   "source": [
    "**1-3) 고양이**"
   ]
  },
  {
   "cell_type": "code",
   "execution_count": 11,
   "id": "cf6fdfc0",
   "metadata": {},
   "outputs": [
    {
     "name": "stdout",
     "output_type": "stream",
     "text": [
      "\\    /\\\n",
      " )  ( ')\n",
      "(  /  )\n",
      " \\(__)|\n",
      " \n"
     ]
    }
   ],
   "source": [
    "print('''\\    /\\\\\n",
    " )  ( ')\n",
    "(  /  )\n",
    " \\(__)|\n",
    " ''')"
   ]
  },
  {
   "cell_type": "markdown",
   "id": "d7763658",
   "metadata": {},
   "source": [
    "**1-4) 개** "
   ]
  },
  {
   "cell_type": "code",
   "execution_count": 12,
   "id": "3b87718e",
   "metadata": {},
   "outputs": [
    {
     "name": "stdout",
     "output_type": "stream",
     "text": [
      "|\\_/|\n",
      "|q p|   /}\n",
      "( 0 )\"\"\"\\\n",
      "|\"^\"`    |\n",
      "||_/=\\\\__|\n"
     ]
    }
   ],
   "source": [
    "print('|\\_/|')\n",
    "print('|q p|   /}')\n",
    "print('( 0 )\\\"\\\"\\\"\\\\')\n",
    "print('|\\\"^\\\"`    |')\n",
    "print('||_/=\\\\\\\\__|')"
   ]
  },
  {
   "cell_type": "markdown",
   "id": "abbc75e5",
   "metadata": {},
   "source": [
    "**1-5) A+B**"
   ]
  },
  {
   "cell_type": "code",
   "execution_count": 13,
   "id": "0cc22f79",
   "metadata": {},
   "outputs": [
    {
     "name": "stdout",
     "output_type": "stream",
     "text": [
      "1 2\n",
      "3\n"
     ]
    }
   ],
   "source": [
    "a, b = input().split()\n",
    "print(int(a)+int(b))"
   ]
  },
  {
   "cell_type": "markdown",
   "id": "e1976f8a",
   "metadata": {},
   "source": [
    "**1-6) A-B**"
   ]
  },
  {
   "cell_type": "code",
   "execution_count": 14,
   "id": "eba1d536",
   "metadata": {},
   "outputs": [
    {
     "name": "stdout",
     "output_type": "stream",
     "text": [
      "3 2\n",
      "1\n"
     ]
    }
   ],
   "source": [
    "a,b = map(int, input().split())\n",
    "print(a-b)"
   ]
  },
  {
   "cell_type": "markdown",
   "id": "1463923d",
   "metadata": {},
   "source": [
    "**1-7) A*B**"
   ]
  },
  {
   "cell_type": "code",
   "execution_count": 15,
   "id": "b8d47a04",
   "metadata": {},
   "outputs": [
    {
     "name": "stdout",
     "output_type": "stream",
     "text": [
      "1 2\n",
      "2\n"
     ]
    }
   ],
   "source": [
    "a,b = map(int, input().split())\n",
    "print(a*b)"
   ]
  },
  {
   "cell_type": "markdown",
   "id": "63b39aea",
   "metadata": {},
   "source": [
    "**1-8) A/B**"
   ]
  },
  {
   "cell_type": "code",
   "execution_count": 16,
   "id": "1b23e145",
   "metadata": {},
   "outputs": [
    {
     "name": "stdout",
     "output_type": "stream",
     "text": [
      "1 3\n",
      "0.3333333333333333\n"
     ]
    }
   ],
   "source": [
    "a,b = map(int, input().split())\n",
    "print(a/b)"
   ]
  },
  {
   "cell_type": "markdown",
   "id": "05a1101a",
   "metadata": {},
   "source": [
    "**1-9) 사칙연산**"
   ]
  },
  {
   "cell_type": "code",
   "execution_count": 17,
   "id": "f10e1e1e",
   "metadata": {},
   "outputs": [
    {
     "name": "stdout",
     "output_type": "stream",
     "text": [
      "7 3\n",
      "10\n",
      "4\n",
      "21\n",
      "2\n",
      "1\n"
     ]
    }
   ],
   "source": [
    "a,b = map(int, input().split())\n",
    "print(a+b)\n",
    "print(a-b)\n",
    "print(a*b)\n",
    "print(int(a/b))\n",
    "print(a%b)"
   ]
  },
  {
   "cell_type": "code",
   "execution_count": null,
   "id": "8c7e8b62",
   "metadata": {},
   "outputs": [],
   "source": [
    "**1-10) 나머지**"
   ]
  },
  {
   "cell_type": "code",
   "execution_count": 18,
   "id": "c7cd2723",
   "metadata": {},
   "outputs": [
    {
     "name": "stdout",
     "output_type": "stream",
     "text": [
      "5 8 4\n",
      "1\n",
      "1\n",
      "0\n",
      "0\n"
     ]
    }
   ],
   "source": [
    "A,B,C = map(int, input().split())\n",
    "print((A+B)%C)\n",
    "print(((A%C)+(B%C))%C)\n",
    "print((A*B)%C)\n",
    "print(((A%C)*(B%C))%C)"
   ]
  },
  {
   "cell_type": "code",
   "execution_count": null,
   "id": "8d0ddae6",
   "metadata": {},
   "outputs": [],
   "source": [
    "**1-11) 곱셈**"
   ]
  },
  {
   "cell_type": "code",
   "execution_count": 19,
   "id": "0a8bc92d",
   "metadata": {},
   "outputs": [
    {
     "name": "stdout",
     "output_type": "stream",
     "text": [
      "472\n",
      "385\n",
      "2360\n",
      "3776\n",
      "1416\n",
      "181720\n"
     ]
    }
   ],
   "source": [
    "a=input()\n",
    "b=input()\n",
    "c=int(b)/100\n",
    "d=(int(b)%100)/10\n",
    "e=int(b)%10\n",
    "a=int(a)\n",
    "b=int(b)\n",
    "c=int(c)\n",
    "d=int(d)\n",
    "e=int(e)\n",
    "\n",
    "print(a*e)\n",
    "print(a*d)\n",
    "print(a*c)\n",
    "print(a*b)"
   ]
  },
  {
   "cell_type": "code",
   "execution_count": null,
   "id": "f527be76",
   "metadata": {},
   "outputs": [],
   "source": [
    "**2-1) 두 수 비교하기**"
   ]
  },
  {
   "cell_type": "code",
   "execution_count": 21,
   "id": "27223b47",
   "metadata": {},
   "outputs": [
    {
     "name": "stdout",
     "output_type": "stream",
     "text": [
      "1 2\n",
      "<\n"
     ]
    }
   ],
   "source": [
    "a, b = map(int,input().split())\n",
    "\n",
    "if a>b :\n",
    "    print('>')\n",
    "elif a<b :\n",
    "    print('<')\n",
    "else :\n",
    "    print('==')\n",
    "    "
   ]
  },
  {
   "cell_type": "code",
   "execution_count": null,
   "id": "22bd46d0",
   "metadata": {},
   "outputs": [],
   "source": [
    "**2-2) 시험 성적**"
   ]
  },
  {
   "cell_type": "code",
   "execution_count": 22,
   "id": "d4d8c127",
   "metadata": {},
   "outputs": [
    {
     "name": "stdout",
     "output_type": "stream",
     "text": [
      "100\n",
      "A\n"
     ]
    }
   ],
   "source": [
    "a = int(input())\n",
    "\n",
    "if 90<=a<=100 :\n",
    "    print('A')\n",
    "elif 80<=a<=89 :\n",
    "    print('B')\n",
    "elif 70<=a<=79 : \n",
    "    print('C')\n",
    "elif 60<=a<=69 :\n",
    "    print('D')\n",
    "else :\n",
    "    print('F')"
   ]
  },
  {
   "cell_type": "code",
   "execution_count": null,
   "id": "b1c6db15",
   "metadata": {},
   "outputs": [],
   "source": [
    "**2-3) 윤년**"
   ]
  },
  {
   "cell_type": "code",
   "execution_count": 23,
   "id": "97eac72f",
   "metadata": {},
   "outputs": [
    {
     "name": "stdout",
     "output_type": "stream",
     "text": [
      "2000\n",
      "1\n"
     ]
    }
   ],
   "source": [
    "a =int(input())\n",
    "if (a % 4 == 0 and a%100 != 0) or a % 400 == 0 :\n",
    "    print('1')\n",
    "else :\n",
    "    print('0')"
   ]
  },
  {
   "cell_type": "code",
   "execution_count": null,
   "id": "4e773287",
   "metadata": {},
   "outputs": [],
   "source": [
    "**2-4) 사분면 고르기**"
   ]
  },
  {
   "cell_type": "code",
   "execution_count": null,
   "id": "4c32eae5",
   "metadata": {},
   "outputs": [],
   "source": [
    "a =int(input())\n",
    "if a % 4 == 0 and a%100 != 0 or a % 400 == 0 :\n",
    "    print('1')\n",
    "else :\n",
    "    print('0')"
   ]
  },
  {
   "cell_type": "code",
   "execution_count": null,
   "id": "2d174832",
   "metadata": {},
   "outputs": [],
   "source": [
    "**2-5) 알람 시계**"
   ]
  },
  {
   "cell_type": "code",
   "execution_count": 8,
   "id": "457f956d",
   "metadata": {},
   "outputs": [
    {
     "name": "stdout",
     "output_type": "stream",
     "text": [
      "12\n",
      "5\n",
      "1\n"
     ]
    }
   ],
   "source": [
    "a =int(input())\n",
    "b =int(input())\n",
    "\n",
    "if a>0 and b>0 :\n",
    "    print('1')\n",
    "elif a<0 and b>0 :\n",
    "    print('2')\n",
    "elif a<0 and b<0 :\n",
    "    print('3')\n",
    "else :\n",
    "    print('4')"
   ]
  },
  {
   "cell_type": "code",
   "execution_count": 29,
   "id": "a80d82c4",
   "metadata": {},
   "outputs": [
    {
     "name": "stdout",
     "output_type": "stream",
     "text": [
      "23 40\n",
      "22 55\n"
     ]
    }
   ],
   "source": [
    "H,M =map(int,input().split())\n",
    "\n",
    "if H==0 and M < 45 :\n",
    "    H = 23\n",
    "    M = M+60-45\n",
    "    print(H, M)\n",
    "elif 0<H<24 and M < 45:\n",
    "    H = H-1\n",
    "    M = M+60-45\n",
    "    print(H, M)\n",
    "elif M >= 45 :\n",
    "    H = H\n",
    "    M = M-45\n",
    "    print(H, M)"
   ]
  }
 ],
 "metadata": {
  "kernelspec": {
   "display_name": "Python 3",
   "language": "python",
   "name": "python3"
  },
  "language_info": {
   "codemirror_mode": {
    "name": "ipython",
    "version": 3
   },
   "file_extension": ".py",
   "mimetype": "text/x-python",
   "name": "python",
   "nbconvert_exporter": "python",
   "pygments_lexer": "ipython3",
   "version": "3.8.8"
  }
 },
 "nbformat": 4,
 "nbformat_minor": 5
}
