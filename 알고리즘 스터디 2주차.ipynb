{
 "cells": [
  {
   "cell_type": "code",
   "execution_count": 6,
   "id": "f791e526",
   "metadata": {},
   "outputs": [
    {
     "name": "stdout",
     "output_type": "stream",
     "text": [
      "123\n",
      "456\n",
      "738\n",
      "615\n",
      "492\n",
      "56088\n"
     ]
    }
   ],
   "source": [
    "a=input()\n",
    "b=input()\n",
    "c=b[0]\n",
    "d=b[1]\n",
    "e=b[2]\n",
    "\n",
    "print(int(a)*int(e))\n",
    "print(int(a)*int(d))\n",
    "print(int(a)*int(c))\n",
    "print(int(a)*int(b))"
   ]
  },
  {
   "cell_type": "markdown",
   "id": "18fa045d",
   "metadata": {},
   "source": [
    "3-1) 구구단"
   ]
  },
  {
   "cell_type": "code",
   "execution_count": 14,
   "id": "efd8cd42",
   "metadata": {},
   "outputs": [
    {
     "name": "stdout",
     "output_type": "stream",
     "text": [
      "2\n",
      "2 * 1 = 2\n",
      "2 * 2 = 4\n",
      "2 * 3 = 6\n",
      "2 * 4 = 8\n",
      "2 * 5 = 10\n",
      "2 * 6 = 12\n",
      "2 * 7 = 14\n",
      "2 * 8 = 16\n",
      "2 * 9 = 18\n"
     ]
    }
   ],
   "source": [
    "a = int(input())\n",
    "for i in range(1,10) :\n",
    "    print(a,'*',i,'=',a*i)  "
   ]
  },
  {
   "cell_type": "markdown",
   "id": "224a39a3",
   "metadata": {},
   "source": [
    "3-2) A+B"
   ]
  },
  {
   "cell_type": "code",
   "execution_count": 17,
   "id": "12836f14",
   "metadata": {},
   "outputs": [
    {
     "name": "stdout",
     "output_type": "stream",
     "text": [
      "5\n",
      "1 1\n",
      "2\n",
      "2 3\n",
      "5\n",
      "1 1\n",
      "2\n",
      "2 3\n",
      "5\n",
      "5 5\n",
      "10\n"
     ]
    }
   ],
   "source": [
    "T = int(input())\n",
    "\n",
    "for i in range(T) :\n",
    "    A,B = map(int, input().split())\n",
    "    print(A + B) "
   ]
  },
  {
   "cell_type": "markdown",
   "id": "7702517c",
   "metadata": {},
   "source": [
    "3-3) 합"
   ]
  },
  {
   "cell_type": "code",
   "execution_count": 24,
   "id": "ec880aed",
   "metadata": {},
   "outputs": [
    {
     "name": "stdout",
     "output_type": "stream",
     "text": [
      "3\n",
      "6\n"
     ]
    }
   ],
   "source": [
    "n = int(input())\n",
    "t = 0 \n",
    "for i in range(1,n+1) :\n",
    "    t = i + t\n",
    "print(t)\n",
    "    "
   ]
  },
  {
   "cell_type": "code",
   "execution_count": null,
   "id": "d412aab0",
   "metadata": {},
   "outputs": [],
   "source": [
    "3-4) 빠른 A+B"
   ]
  },
  {
   "cell_type": "code",
   "execution_count": 26,
   "id": "e3521029",
   "metadata": {},
   "outputs": [
    {
     "name": "stdout",
     "output_type": "stream",
     "text": [
      "5\n"
     ]
    },
    {
     "ename": "ValueError",
     "evalue": "not enough values to unpack (expected 2, got 0)",
     "output_type": "error",
     "traceback": [
      "\u001b[1;31m---------------------------------------------------------------------------\u001b[0m",
      "\u001b[1;31mValueError\u001b[0m                                Traceback (most recent call last)",
      "\u001b[1;32m<ipython-input-26-6b502e767652>\u001b[0m in \u001b[0;36m<module>\u001b[1;34m\u001b[0m\n\u001b[0;32m      4\u001b[0m \u001b[1;33m\u001b[0m\u001b[0m\n\u001b[0;32m      5\u001b[0m \u001b[1;32mfor\u001b[0m \u001b[0mi\u001b[0m \u001b[1;32min\u001b[0m \u001b[0mrange\u001b[0m\u001b[1;33m(\u001b[0m\u001b[0mT\u001b[0m\u001b[1;33m)\u001b[0m \u001b[1;33m:\u001b[0m\u001b[1;33m\u001b[0m\u001b[1;33m\u001b[0m\u001b[0m\n\u001b[1;32m----> 6\u001b[1;33m     \u001b[0mA\u001b[0m\u001b[1;33m,\u001b[0m\u001b[0mB\u001b[0m \u001b[1;33m=\u001b[0m \u001b[0mmap\u001b[0m\u001b[1;33m(\u001b[0m\u001b[0mint\u001b[0m\u001b[1;33m,\u001b[0m \u001b[0msys\u001b[0m\u001b[1;33m.\u001b[0m\u001b[0mstdin\u001b[0m\u001b[1;33m.\u001b[0m\u001b[0mreadline\u001b[0m\u001b[1;33m(\u001b[0m\u001b[1;33m)\u001b[0m\u001b[1;33m.\u001b[0m\u001b[0msplit\u001b[0m\u001b[1;33m(\u001b[0m\u001b[1;33m)\u001b[0m\u001b[1;33m)\u001b[0m\u001b[1;33m\u001b[0m\u001b[1;33m\u001b[0m\u001b[0m\n\u001b[0m\u001b[0;32m      7\u001b[0m     \u001b[0mprint\u001b[0m\u001b[1;33m(\u001b[0m\u001b[0mA\u001b[0m \u001b[1;33m+\u001b[0m \u001b[0mB\u001b[0m\u001b[1;33m)\u001b[0m\u001b[1;33m\u001b[0m\u001b[1;33m\u001b[0m\u001b[0m\n",
      "\u001b[1;31mValueError\u001b[0m: not enough values to unpack (expected 2, got 0)"
     ]
    }
   ],
   "source": [
    "# import sys\n",
    "\n",
    "# T = int(input())\n",
    "\n",
    "# for i in range(T) :\n",
    "#     A,B = map(int, sys.stdin.readline().split())\n",
    "#     print(A + B) "
   ]
  },
  {
   "cell_type": "code",
   "execution_count": null,
   "id": "15bd1cb5",
   "metadata": {},
   "outputs": [],
   "source": [
    "3-5) N 찍기"
   ]
  },
  {
   "cell_type": "code",
   "execution_count": 27,
   "id": "52e3999a",
   "metadata": {},
   "outputs": [
    {
     "name": "stdout",
     "output_type": "stream",
     "text": [
      "5\n",
      "1\n",
      "2\n",
      "3\n",
      "4\n",
      "5\n"
     ]
    }
   ],
   "source": [
    "N = int(input())\n",
    "\n",
    "for i in range(1,N+1) :\n",
    "    print(i)"
   ]
  },
  {
   "cell_type": "code",
   "execution_count": null,
   "id": "bc765050",
   "metadata": {},
   "outputs": [],
   "source": [
    "3-6) 기찍 N"
   ]
  },
  {
   "cell_type": "code",
   "execution_count": 29,
   "id": "3729d572",
   "metadata": {},
   "outputs": [
    {
     "name": "stdout",
     "output_type": "stream",
     "text": [
      "5\n",
      "5\n",
      "4\n",
      "3\n",
      "2\n",
      "1\n"
     ]
    }
   ],
   "source": [
    "N = int(input())\n",
    "\n",
    "for i in range(N,0,-1) :\n",
    "    print(i)"
   ]
  },
  {
   "cell_type": "markdown",
   "id": "1b752c6b",
   "metadata": {},
   "source": [
    "3-7) A+B - 7"
   ]
  },
  {
   "cell_type": "code",
   "execution_count": 34,
   "id": "b6b33906",
   "metadata": {},
   "outputs": [
    {
     "name": "stdout",
     "output_type": "stream",
     "text": [
      "5\n",
      "1 1\n",
      "Case #1: 2\n",
      "2 3\n",
      "Case #2: 5\n",
      "1 1 \n",
      "Case #3: 2\n",
      "1 1\n",
      "Case #4: 2\n",
      "1 1\n",
      "Case #5: 2\n"
     ]
    }
   ],
   "source": [
    "T =int(input())\n",
    "\n",
    "for i in range(1,T+1) :\n",
    "    A, B = map(int, input().split())\n",
    "    print(f'Case #{i}: {A+B}')\n",
    "    \n",
    "# Another ver\n",
    "\n",
    "# T=int(input())\n",
    "\n",
    "# for i in range(1,T+1):\n",
    "    # a,b=map(int,input().split())\n",
    "# print(\"Case #%d: %d\" %(i,a+b)) ## 새로운 방법 "
   ]
  },
  {
   "cell_type": "code",
   "execution_count": null,
   "id": "01d909ff",
   "metadata": {},
   "outputs": [],
   "source": []
  },
  {
   "cell_type": "code",
   "execution_count": null,
   "id": "ab4ef794",
   "metadata": {},
   "outputs": [],
   "source": [
    "3-8) A+B - 8"
   ]
  },
  {
   "cell_type": "code",
   "execution_count": 36,
   "id": "0558771c",
   "metadata": {},
   "outputs": [
    {
     "name": "stdout",
     "output_type": "stream",
     "text": [
      "5\n",
      "1 1\n",
      "Case #1: 1 + 1 = 2\n",
      "2 3\n",
      "Case #2: 2 + 3 = 5\n",
      "3 4\n",
      "Case #3: 3 + 4 = 7\n",
      "9 8\n",
      "Case #4: 9 + 8 = 17\n",
      "5 2\n",
      "Case #5: 5 + 2 = 7\n"
     ]
    }
   ],
   "source": [
    "T = int(input())\n",
    "\n",
    "for i in range(1,T+1) :\n",
    "    A,B = map(int, input().split())\n",
    "    print(f'Case #{i}: {A} + {B} = {A+B}')"
   ]
  },
  {
   "cell_type": "markdown",
   "id": "41856d21",
   "metadata": {},
   "source": [
    "3-9) 별찍기 - 1"
   ]
  },
  {
   "cell_type": "code",
   "execution_count": 41,
   "id": "92c326d8",
   "metadata": {},
   "outputs": [
    {
     "ename": "KeyboardInterrupt",
     "evalue": "Interrupted by user",
     "output_type": "error",
     "traceback": [
      "\u001b[1;31m---------------------------------------------------------------------------\u001b[0m",
      "\u001b[1;31mKeyboardInterrupt\u001b[0m                         Traceback (most recent call last)",
      "\u001b[1;32m<ipython-input-41-f74b9a948656>\u001b[0m in \u001b[0;36m<module>\u001b[1;34m\u001b[0m\n\u001b[1;32m----> 1\u001b[1;33m \u001b[0mT\u001b[0m \u001b[1;33m=\u001b[0m \u001b[0mint\u001b[0m\u001b[1;33m(\u001b[0m\u001b[0minput\u001b[0m\u001b[1;33m(\u001b[0m\u001b[1;33m)\u001b[0m\u001b[1;33m)\u001b[0m\u001b[1;33m\u001b[0m\u001b[1;33m\u001b[0m\u001b[0m\n\u001b[0m\u001b[0;32m      2\u001b[0m \u001b[1;33m\u001b[0m\u001b[0m\n\u001b[0;32m      3\u001b[0m \u001b[1;32mfor\u001b[0m \u001b[0mi\u001b[0m \u001b[1;32min\u001b[0m \u001b[0mrange\u001b[0m\u001b[1;33m(\u001b[0m\u001b[1;36m1\u001b[0m\u001b[1;33m,\u001b[0m\u001b[0mT\u001b[0m\u001b[1;33m+\u001b[0m\u001b[1;36m1\u001b[0m\u001b[1;33m)\u001b[0m \u001b[1;33m:\u001b[0m\u001b[1;33m\u001b[0m\u001b[1;33m\u001b[0m\u001b[0m\n\u001b[0;32m      4\u001b[0m     \u001b[0mprint\u001b[0m\u001b[1;33m(\u001b[0m\u001b[1;34m'*'\u001b[0m\u001b[1;33m*\u001b[0m\u001b[0mi\u001b[0m\u001b[1;33m)\u001b[0m\u001b[1;33m\u001b[0m\u001b[1;33m\u001b[0m\u001b[0m\n\u001b[0;32m      5\u001b[0m \u001b[1;33m\u001b[0m\u001b[0m\n",
      "\u001b[1;32m~\\anaconda3\\lib\\site-packages\\ipykernel\\kernelbase.py\u001b[0m in \u001b[0;36mraw_input\u001b[1;34m(self, prompt)\u001b[0m\n\u001b[0;32m    858\u001b[0m                 \u001b[1;34m\"raw_input was called, but this frontend does not support input requests.\"\u001b[0m\u001b[1;33m\u001b[0m\u001b[1;33m\u001b[0m\u001b[0m\n\u001b[0;32m    859\u001b[0m             )\n\u001b[1;32m--> 860\u001b[1;33m         return self._input_request(str(prompt),\n\u001b[0m\u001b[0;32m    861\u001b[0m             \u001b[0mself\u001b[0m\u001b[1;33m.\u001b[0m\u001b[0m_parent_ident\u001b[0m\u001b[1;33m,\u001b[0m\u001b[1;33m\u001b[0m\u001b[1;33m\u001b[0m\u001b[0m\n\u001b[0;32m    862\u001b[0m             \u001b[0mself\u001b[0m\u001b[1;33m.\u001b[0m\u001b[0m_parent_header\u001b[0m\u001b[1;33m,\u001b[0m\u001b[1;33m\u001b[0m\u001b[1;33m\u001b[0m\u001b[0m\n",
      "\u001b[1;32m~\\anaconda3\\lib\\site-packages\\ipykernel\\kernelbase.py\u001b[0m in \u001b[0;36m_input_request\u001b[1;34m(self, prompt, ident, parent, password)\u001b[0m\n\u001b[0;32m    902\u001b[0m             \u001b[1;32mexcept\u001b[0m \u001b[0mKeyboardInterrupt\u001b[0m\u001b[1;33m:\u001b[0m\u001b[1;33m\u001b[0m\u001b[1;33m\u001b[0m\u001b[0m\n\u001b[0;32m    903\u001b[0m                 \u001b[1;31m# re-raise KeyboardInterrupt, to truncate traceback\u001b[0m\u001b[1;33m\u001b[0m\u001b[1;33m\u001b[0m\u001b[1;33m\u001b[0m\u001b[0m\n\u001b[1;32m--> 904\u001b[1;33m                 \u001b[1;32mraise\u001b[0m \u001b[0mKeyboardInterrupt\u001b[0m\u001b[1;33m(\u001b[0m\u001b[1;34m\"Interrupted by user\"\u001b[0m\u001b[1;33m)\u001b[0m \u001b[1;32mfrom\u001b[0m \u001b[1;32mNone\u001b[0m\u001b[1;33m\u001b[0m\u001b[1;33m\u001b[0m\u001b[0m\n\u001b[0m\u001b[0;32m    905\u001b[0m             \u001b[1;32mexcept\u001b[0m \u001b[0mException\u001b[0m \u001b[1;32mas\u001b[0m \u001b[0me\u001b[0m\u001b[1;33m:\u001b[0m\u001b[1;33m\u001b[0m\u001b[1;33m\u001b[0m\u001b[0m\n\u001b[0;32m    906\u001b[0m                 \u001b[0mself\u001b[0m\u001b[1;33m.\u001b[0m\u001b[0mlog\u001b[0m\u001b[1;33m.\u001b[0m\u001b[0mwarning\u001b[0m\u001b[1;33m(\u001b[0m\u001b[1;34m\"Invalid Message:\"\u001b[0m\u001b[1;33m,\u001b[0m \u001b[0mexc_info\u001b[0m\u001b[1;33m=\u001b[0m\u001b[1;32mTrue\u001b[0m\u001b[1;33m)\u001b[0m\u001b[1;33m\u001b[0m\u001b[1;33m\u001b[0m\u001b[0m\n",
      "\u001b[1;31mKeyboardInterrupt\u001b[0m: Interrupted by user"
     ]
    }
   ],
   "source": [
    "T = int(input())\n",
    "\n",
    "for i in range(1,T+1) :\n",
    "    print('*'*i)\n",
    "    "
   ]
  },
  {
   "cell_type": "code",
   "execution_count": null,
   "id": "a81ae26f",
   "metadata": {},
   "outputs": [],
   "source": [
    "T =int(input())\n",
    "\n",
    "for i in range(0,T):\n",
    "    for j in range(i+1):\n",
    "        print(\"*\",end=\"\")\n",
    "print('')"
   ]
  },
  {
   "cell_type": "code",
   "execution_count": null,
   "id": "f1247d32",
   "metadata": {},
   "outputs": [],
   "source": [
    "3-10) 별찍기 - 2"
   ]
  },
  {
   "cell_type": "code",
   "execution_count": 39,
   "id": "90f2efc8",
   "metadata": {},
   "outputs": [
    {
     "name": "stdout",
     "output_type": "stream",
     "text": [
      "5\n",
      "    *\n",
      "   **\n",
      "  ***\n",
      " ****\n",
      "*****\n"
     ]
    }
   ],
   "source": [
    "T = int(input())\n",
    "\n",
    "for i in range(1,T+1) :\n",
    "    print(' '*(T-i)+i*'*')"
   ]
  },
  {
   "cell_type": "markdown",
   "id": "6398aeb1",
   "metadata": {},
   "source": [
    "3-11) X보다 작은 수"
   ]
  },
  {
   "cell_type": "code",
   "execution_count": 63,
   "id": "9fe78063",
   "metadata": {},
   "outputs": [
    {
     "name": "stdout",
     "output_type": "stream",
     "text": [
      "10 5\n",
      "1 10 4 9 2 3 8 5 7 6\n",
      "1\n",
      "4\n",
      "2\n",
      "3\n"
     ]
    }
   ],
   "source": [
    "N, X = map(int, input().split())\n",
    "A = map(int, input().split())\n",
    "\n",
    "for i in A :\n",
    "    if i < X :\n",
    "        print(i)"
   ]
  },
  {
   "cell_type": "code",
   "execution_count": 11,
   "id": "57e40d56",
   "metadata": {},
   "outputs": [
    {
     "ename": "KeyboardInterrupt",
     "evalue": "Interrupted by user",
     "output_type": "error",
     "traceback": [
      "\u001b[1;31m---------------------------------------------------------------------------\u001b[0m",
      "\u001b[1;31mKeyboardInterrupt\u001b[0m                         Traceback (most recent call last)",
      "\u001b[1;32m<ipython-input-11-3a1541a6d771>\u001b[0m in \u001b[0;36m<module>\u001b[1;34m\u001b[0m\n\u001b[0;32m      2\u001b[0m \u001b[1;31m# 출력값을 한줄로 쓰는 방법\u001b[0m\u001b[1;33m\u001b[0m\u001b[1;33m\u001b[0m\u001b[1;33m\u001b[0m\u001b[0m\n\u001b[0;32m      3\u001b[0m \u001b[1;33m\u001b[0m\u001b[0m\n\u001b[1;32m----> 4\u001b[1;33m \u001b[0mN\u001b[0m\u001b[1;33m,\u001b[0m \u001b[0mX\u001b[0m \u001b[1;33m=\u001b[0m \u001b[0mmap\u001b[0m\u001b[1;33m(\u001b[0m\u001b[0mint\u001b[0m\u001b[1;33m,\u001b[0m \u001b[0minput\u001b[0m\u001b[1;33m(\u001b[0m\u001b[1;33m)\u001b[0m\u001b[1;33m.\u001b[0m\u001b[0msplit\u001b[0m\u001b[1;33m(\u001b[0m\u001b[1;33m)\u001b[0m\u001b[1;33m)\u001b[0m\u001b[1;33m\u001b[0m\u001b[1;33m\u001b[0m\u001b[0m\n\u001b[0m\u001b[0;32m      5\u001b[0m \u001b[0mA\u001b[0m \u001b[1;33m=\u001b[0m \u001b[0mlist\u001b[0m\u001b[1;33m(\u001b[0m\u001b[0mmap\u001b[0m\u001b[1;33m(\u001b[0m\u001b[0mint\u001b[0m\u001b[1;33m,\u001b[0m \u001b[0minput\u001b[0m\u001b[1;33m(\u001b[0m\u001b[1;33m)\u001b[0m\u001b[1;33m.\u001b[0m\u001b[0msplit\u001b[0m\u001b[1;33m(\u001b[0m\u001b[1;33m)\u001b[0m\u001b[1;33m)\u001b[0m\u001b[1;33m)\u001b[0m\u001b[1;33m\u001b[0m\u001b[1;33m\u001b[0m\u001b[0m\n\u001b[0;32m      6\u001b[0m \u001b[0mdx\u001b[0m \u001b[1;33m=\u001b[0m \u001b[1;33m[\u001b[0m\u001b[1;33m]\u001b[0m\u001b[1;33m\u001b[0m\u001b[1;33m\u001b[0m\u001b[0m\n",
      "\u001b[1;32m~\\anaconda3\\lib\\site-packages\\ipykernel\\kernelbase.py\u001b[0m in \u001b[0;36mraw_input\u001b[1;34m(self, prompt)\u001b[0m\n\u001b[0;32m    858\u001b[0m                 \u001b[1;34m\"raw_input was called, but this frontend does not support input requests.\"\u001b[0m\u001b[1;33m\u001b[0m\u001b[1;33m\u001b[0m\u001b[0m\n\u001b[0;32m    859\u001b[0m             )\n\u001b[1;32m--> 860\u001b[1;33m         return self._input_request(str(prompt),\n\u001b[0m\u001b[0;32m    861\u001b[0m             \u001b[0mself\u001b[0m\u001b[1;33m.\u001b[0m\u001b[0m_parent_ident\u001b[0m\u001b[1;33m,\u001b[0m\u001b[1;33m\u001b[0m\u001b[1;33m\u001b[0m\u001b[0m\n\u001b[0;32m    862\u001b[0m             \u001b[0mself\u001b[0m\u001b[1;33m.\u001b[0m\u001b[0m_parent_header\u001b[0m\u001b[1;33m,\u001b[0m\u001b[1;33m\u001b[0m\u001b[1;33m\u001b[0m\u001b[0m\n",
      "\u001b[1;32m~\\anaconda3\\lib\\site-packages\\ipykernel\\kernelbase.py\u001b[0m in \u001b[0;36m_input_request\u001b[1;34m(self, prompt, ident, parent, password)\u001b[0m\n\u001b[0;32m    902\u001b[0m             \u001b[1;32mexcept\u001b[0m \u001b[0mKeyboardInterrupt\u001b[0m\u001b[1;33m:\u001b[0m\u001b[1;33m\u001b[0m\u001b[1;33m\u001b[0m\u001b[0m\n\u001b[0;32m    903\u001b[0m                 \u001b[1;31m# re-raise KeyboardInterrupt, to truncate traceback\u001b[0m\u001b[1;33m\u001b[0m\u001b[1;33m\u001b[0m\u001b[1;33m\u001b[0m\u001b[0m\n\u001b[1;32m--> 904\u001b[1;33m                 \u001b[1;32mraise\u001b[0m \u001b[0mKeyboardInterrupt\u001b[0m\u001b[1;33m(\u001b[0m\u001b[1;34m\"Interrupted by user\"\u001b[0m\u001b[1;33m)\u001b[0m \u001b[1;32mfrom\u001b[0m \u001b[1;32mNone\u001b[0m\u001b[1;33m\u001b[0m\u001b[1;33m\u001b[0m\u001b[0m\n\u001b[0m\u001b[0;32m    905\u001b[0m             \u001b[1;32mexcept\u001b[0m \u001b[0mException\u001b[0m \u001b[1;32mas\u001b[0m \u001b[0me\u001b[0m\u001b[1;33m:\u001b[0m\u001b[1;33m\u001b[0m\u001b[1;33m\u001b[0m\u001b[0m\n\u001b[0;32m    906\u001b[0m                 \u001b[0mself\u001b[0m\u001b[1;33m.\u001b[0m\u001b[0mlog\u001b[0m\u001b[1;33m.\u001b[0m\u001b[0mwarning\u001b[0m\u001b[1;33m(\u001b[0m\u001b[1;34m\"Invalid Message:\"\u001b[0m\u001b[1;33m,\u001b[0m \u001b[0mexc_info\u001b[0m\u001b[1;33m=\u001b[0m\u001b[1;32mTrue\u001b[0m\u001b[1;33m)\u001b[0m\u001b[1;33m\u001b[0m\u001b[1;33m\u001b[0m\u001b[0m\n",
      "\u001b[1;31mKeyboardInterrupt\u001b[0m: Interrupted by user"
     ]
    }
   ],
   "source": [
    "# Another ver\n",
    "# 출력값을 한줄로 쓰는 방법\n",
    "\n",
    "N, X = map(int, input().split())\n",
    "A = list(map(int, input().split()))\n",
    "dx = []\n",
    "\n",
    "for i in A :\n",
    "    if i < X :\n",
    "        dx.append(i) \n",
    "# print(dx)\n",
    "print(dx[0],dx[1],dx[2],dx[3])"
   ]
  },
  {
   "cell_type": "markdown",
   "id": "0acbd7ed",
   "metadata": {},
   "source": [
    "4-1) A+B -5"
   ]
  },
  {
   "cell_type": "code",
   "execution_count": 7,
   "id": "832a9b58",
   "metadata": {},
   "outputs": [
    {
     "name": "stdout",
     "output_type": "stream",
     "text": [
      "1 1\n",
      "2\n",
      "2 3\n",
      "5\n",
      "3 4\n",
      "7\n",
      "9 8\n",
      "17\n",
      "5 2\n",
      "7\n",
      "0 0\n"
     ]
    }
   ],
   "source": [
    "while True :\n",
    "    A, B = map(int, input().split())\n",
    "    if A+B ==0 :\n",
    "        break\n",
    "    print(A+B)"
   ]
  },
  {
   "cell_type": "markdown",
   "id": "64a97845",
   "metadata": {},
   "source": [
    "4-2) A+B -4"
   ]
  },
  {
   "cell_type": "code",
   "execution_count": 10,
   "id": "b517ea39",
   "metadata": {},
   "outputs": [
    {
     "name": "stdout",
     "output_type": "stream",
     "text": [
      "1 1\n",
      "2\n",
      "2 2\n",
      "4\n",
      "3 3\n",
      "6\n",
      "4 4\n",
      "8\n",
      "5 5\n",
      "10\n",
      " \n"
     ]
    }
   ],
   "source": [
    "# try부터 시작하여 except 구문에 오류가 발생되면 빠져나오는(break) 구문 \n",
    "\n",
    "while True :\n",
    "    try : \n",
    "        A, B = map(int, input().split())\n",
    "        print(A+B)\n",
    "    except :\n",
    "        break"
   ]
  },
  {
   "cell_type": "markdown",
   "id": "a983158c",
   "metadata": {},
   "source": [
    "4-3)"
   ]
  },
  {
   "cell_type": "code",
   "execution_count": null,
   "id": "4c221631",
   "metadata": {},
   "outputs": [],
   "source": []
  },
  {
   "cell_type": "markdown",
   "id": "21a4470b",
   "metadata": {},
   "source": [
    "5-1)"
   ]
  },
  {
   "cell_type": "code",
   "execution_count": 30,
   "id": "b9f08f25",
   "metadata": {},
   "outputs": [
    {
     "name": "stdout",
     "output_type": "stream",
     "text": [
      "5\n",
      "4 8 7 21 10\n",
      "[4, 7, 8, 10, 21]\n",
      "4 21\n"
     ]
    }
   ],
   "source": [
    "N = int(input())\n",
    "A = list(map(int,input().split()))\n",
    "\n",
    "A.sort()\n",
    "print(A[0],A[N-1])    "
   ]
  },
  {
   "cell_type": "markdown",
   "id": "3157ae6e",
   "metadata": {},
   "source": [
    "5-2)"
   ]
  },
  {
   "cell_type": "code",
   "execution_count": 10,
   "id": "04a6ed32",
   "metadata": {
    "scrolled": false
   },
   "outputs": [
    {
     "name": "stdout",
     "output_type": "stream",
     "text": [
      "3\n",
      "29\n",
      "38\n",
      "12\n",
      "57\n",
      "74\n",
      "40\n",
      "85\n",
      "61\n",
      "85\n",
      "8\n"
     ]
    }
   ],
   "source": [
    "list = []\n",
    "for i in range(9) :\n",
    "    A = int(input())\n",
    "    list.append(A)\n",
    "print(max(list))\n",
    "print(list.index(max(list))+1)"
   ]
  },
  {
   "cell_type": "markdown",
   "id": "d983b9d2",
   "metadata": {},
   "source": [
    "5-3)"
   ]
  },
  {
   "cell_type": "code",
   "execution_count": 7,
   "id": "93f6d05b",
   "metadata": {},
   "outputs": [
    {
     "name": "stdout",
     "output_type": "stream",
     "text": [
      "150\n",
      "266\n",
      "427\n",
      "3\n",
      "1\n",
      "0\n",
      "2\n",
      "0\n",
      "0\n",
      "0\n",
      "2\n",
      "0\n",
      "0\n"
     ]
    }
   ],
   "source": [
    "a = int(input())\n",
    "b = int(input())\n",
    "c = int(input())\n",
    "d = a*b*c\n",
    "e = []\n",
    "\n",
    "while d:\n",
    "    x = d%10\n",
    "    d = int(d/10)\n",
    "    e.append(x)\n",
    "for i in range(10):\n",
    "    print(e.count(i))"
   ]
  },
  {
   "cell_type": "markdown",
   "id": "2abcc2cd",
   "metadata": {},
   "source": [
    "5-4)"
   ]
  },
  {
   "cell_type": "code",
   "execution_count": 14,
   "id": "61e49077",
   "metadata": {},
   "outputs": [
    {
     "name": "stdout",
     "output_type": "stream",
     "text": [
      "42\n",
      "84\n",
      "252\n",
      "420\n",
      "840\n",
      "126\n",
      "42\n",
      "84\n",
      "420\n",
      "126\n",
      "1\n"
     ]
    }
   ],
   "source": [
    "a=[int(input()) for _ in range(10)] \n",
    "l=[]\n",
    "for i in range(10) :\n",
    "    b = a[i]%42\n",
    "    l.append(b)\n",
    "k = list(set(l))\n",
    "print(len(k))"
   ]
  },
  {
   "cell_type": "markdown",
   "id": "452484df",
   "metadata": {},
   "source": [
    "5-5)"
   ]
  },
  {
   "cell_type": "code",
   "execution_count": 20,
   "id": "91451e01",
   "metadata": {},
   "outputs": [
    {
     "name": "stdout",
     "output_type": "stream",
     "text": [
      "3\n",
      "40 80 60\n",
      "75.0\n"
     ]
    }
   ],
   "source": [
    "a = int(input())\n",
    "b = map(int, input().split())\n",
    "c = list(b)\n",
    "d = max(c)\n",
    "x = []\n",
    "for i in range(a):\n",
    "    e = c[i]/d*100\n",
    "    x.append(e)\n",
    "print(sum(x)/len(x))\n"
   ]
  },
  {
   "cell_type": "markdown",
   "id": "e596c5c0",
   "metadata": {},
   "source": [
    "5-6)"
   ]
  },
  {
   "cell_type": "code",
   "execution_count": null,
   "id": "c29ec076",
   "metadata": {},
   "outputs": [],
   "source": [
    "a = int(input())\n",
    "for i in range(a):\n",
    "    b = input()\n",
    "    result = 0\n",
    "    c = 1\n",
    "    for j in b: # b 문자열에서 한글자씩 j로 받는다.\n",
    "        if j == 'O':\n",
    "            result += c\n",
    "            c += 1\n",
    "        else :\n",
    "            c = 1\n",
    "    print(result)"
   ]
  },
  {
   "cell_type": "markdown",
   "id": "b050b3c9",
   "metadata": {},
   "source": [
    "5-7)"
   ]
  },
  {
   "cell_type": "code",
   "execution_count": null,
   "id": "84f6aeea",
   "metadata": {},
   "outputs": [],
   "source": []
  },
  {
   "cell_type": "markdown",
   "id": "7eab4f5a",
   "metadata": {},
   "source": [
    "6-1)"
   ]
  },
  {
   "cell_type": "markdown",
   "id": "285e1594",
   "metadata": {},
   "source": [
    "6-2)"
   ]
  },
  {
   "cell_type": "code",
   "execution_count": null,
   "id": "1e67ef32",
   "metadata": {},
   "outputs": [],
   "source": []
  },
  {
   "cell_type": "markdown",
   "id": "fc10b1eb",
   "metadata": {},
   "source": [
    "6-3)"
   ]
  },
  {
   "cell_type": "code",
   "execution_count": null,
   "id": "b47bde5b",
   "metadata": {},
   "outputs": [],
   "source": []
  }
 ],
 "metadata": {
  "kernelspec": {
   "display_name": "Python 3",
   "language": "python",
   "name": "python3"
  },
  "language_info": {
   "codemirror_mode": {
    "name": "ipython",
    "version": 3
   },
   "file_extension": ".py",
   "mimetype": "text/x-python",
   "name": "python",
   "nbconvert_exporter": "python",
   "pygments_lexer": "ipython3",
   "version": "3.8.8"
  }
 },
 "nbformat": 4,
 "nbformat_minor": 5
}
